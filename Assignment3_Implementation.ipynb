{
  "nbformat": 4,
  "nbformat_minor": 0,
  "metadata": {
    "colab": {
      "provenance": [],
      "gpuType": "V28"
    },
    "kernelspec": {
      "name": "python3",
      "display_name": "Python 3"
    },
    "language_info": {
      "name": "python"
    },
    "accelerator": "TPU"
  },
  "cells": [
    {
      "cell_type": "markdown",
      "metadata": {
        "id": "6424c38e"
      },
      "source": [
        "## **Step 1: Setting Up the Environment**  \n",
        "Make sure you have the required libraries installed. Run the following commands in your terminal:"
      ]
    },
    {
      "cell_type": "code",
      "execution_count": null,
      "metadata": {
        "colab": {
          "base_uri": "https://localhost:8080/"
        },
        "id": "8c8d470d",
        "outputId": "c53bc971-4205-479f-de92-a909e7c687c8",
        "collapsed": true
      },
      "outputs": [
        {
          "output_type": "stream",
          "name": "stdout",
          "text": [
            "Requirement already satisfied: torch in /usr/local/lib/python3.10/dist-packages (2.5.1+cpu)\n",
            "Requirement already satisfied: torchvision in /usr/local/lib/python3.10/dist-packages (0.20.1+cpu)\n",
            "Requirement already satisfied: matplotlib in /usr/local/lib/python3.10/dist-packages (3.8.0)\n",
            "Requirement already satisfied: tqdm in /usr/local/lib/python3.10/dist-packages (4.67.1)\n",
            "Requirement already satisfied: filelock in /usr/local/lib/python3.10/dist-packages (from torch) (3.16.1)\n",
            "Requirement already satisfied: typing-extensions>=4.8.0 in /usr/local/lib/python3.10/dist-packages (from torch) (4.12.2)\n",
            "Requirement already satisfied: networkx in /usr/local/lib/python3.10/dist-packages (from torch) (3.4.2)\n",
            "Requirement already satisfied: jinja2 in /usr/local/lib/python3.10/dist-packages (from torch) (3.1.4)\n",
            "Requirement already satisfied: fsspec in /usr/local/lib/python3.10/dist-packages (from torch) (2024.10.0)\n",
            "Requirement already satisfied: sympy==1.13.1 in /usr/local/lib/python3.10/dist-packages (from torch) (1.13.1)\n",
            "Requirement already satisfied: mpmath<1.4,>=1.1.0 in /usr/local/lib/python3.10/dist-packages (from sympy==1.13.1->torch) (1.3.0)\n",
            "Requirement already satisfied: numpy in /usr/local/lib/python3.10/dist-packages (from torchvision) (1.26.4)\n",
            "Requirement already satisfied: pillow!=8.3.*,>=5.3.0 in /usr/local/lib/python3.10/dist-packages (from torchvision) (11.0.0)\n",
            "Requirement already satisfied: contourpy>=1.0.1 in /usr/local/lib/python3.10/dist-packages (from matplotlib) (1.3.1)\n",
            "Requirement already satisfied: cycler>=0.10 in /usr/local/lib/python3.10/dist-packages (from matplotlib) (0.12.1)\n",
            "Requirement already satisfied: fonttools>=4.22.0 in /usr/local/lib/python3.10/dist-packages (from matplotlib) (4.55.3)\n",
            "Requirement already satisfied: kiwisolver>=1.0.1 in /usr/local/lib/python3.10/dist-packages (from matplotlib) (1.4.7)\n",
            "Requirement already satisfied: packaging>=20.0 in /usr/local/lib/python3.10/dist-packages (from matplotlib) (24.2)\n",
            "Requirement already satisfied: pyparsing>=2.3.1 in /usr/local/lib/python3.10/dist-packages (from matplotlib) (3.2.0)\n",
            "Requirement already satisfied: python-dateutil>=2.7 in /usr/local/lib/python3.10/dist-packages (from matplotlib) (2.9.0.post0)\n",
            "Requirement already satisfied: six>=1.5 in /usr/local/lib/python3.10/dist-packages (from python-dateutil>=2.7->matplotlib) (1.17.0)\n",
            "Requirement already satisfied: MarkupSafe>=2.0 in /usr/local/lib/python3.10/dist-packages (from jinja2->torch) (3.0.2)\n"
          ]
        }
      ],
      "source": [
        "!pip install torch torchvision matplotlib tqdm"
      ]
    },
    {
      "cell_type": "markdown",
      "metadata": {
        "id": "fe743c26"
      },
      "source": [
        "## **Step 2: Loading the Dataset**\n",
        "\n",
        "We’ll use `torchvision.datasets` to load the **FashinMNIST** dataset (you can replace this with MNIST, FashionMNIST, etc.)."
      ]
    },
    {
      "cell_type": "code",
      "execution_count": null,
      "metadata": {
        "colab": {
          "base_uri": "https://localhost:8080/"
        },
        "outputId": "d911ea29-775d-4ecd-d765-6d6b86dfd7f5",
        "collapsed": true,
        "id": "MoIoS9dTqwqQ"
      },
      "outputs": [
        {
          "output_type": "stream",
          "name": "stdout",
          "text": [
            "Number of training samples: 60000\n",
            "Number of test samples: 10000\n"
          ]
        }
      ],
      "source": [
        "import torch\n",
        "import torchvision\n",
        "import torchvision.transforms as transforms\n",
        "from torch.utils.data import DataLoader\n",
        "\n",
        "# Define transformations (resize, normalize, convert to tensors)\n",
        "transform = transforms.Compose([\n",
        "    transforms.Resize((224, 224)),  # Resizing images to 224x224\n",
        "    transforms.ToTensor(),\n",
        "    transforms.Lambda(lambda x: x.repeat(3, 1, 1)), # Convert to 3 channel\n",
        "    transforms.Normalize((0.5, 0.5, 0.5), (0.5, 0.5, 0.5))  # Normalization\n",
        "])\n",
        "\n",
        "# Load FashionMNIST Dataset\n",
        "train_dataset = torchvision.datasets.FashionMNIST(root='./data', train=True, download=True, transform=transform)\n",
        "test_dataset = torchvision.datasets.FashionMNIST(root='./data', train=False, download=True, transform=transform)\n",
        "\n",
        "# Dataloaders\n",
        "train_loader = DataLoader(train_dataset, batch_size=32, shuffle=True)\n",
        "test_loader = DataLoader(test_dataset, batch_size=32, shuffle=False)\n",
        "\n",
        "print(f\"Number of training samples: {len(train_dataset)}\")\n",
        "print(f\"Number of test samples: {len(test_dataset)}\")"
      ]
    },
    {
      "cell_type": "markdown",
      "metadata": {
        "id": "8f47bb94"
      },
      "source": [
        "## **Step 3: Loading and Modifying the Pre-trained Model**\n",
        "\n",
        "I will use **ResNet18**, **VGG16** and **ModileNetV2** and modify the final layer to fit the FashionMNIST dataset (10 classes)."
      ]
    },
    {
      "cell_type": "code",
      "source": [
        "import torchvision.models as models\n",
        "import torch.nn as nn"
      ],
      "metadata": {
        "id": "CxgChVA4rrQg"
      },
      "execution_count": null,
      "outputs": []
    },
    {
      "cell_type": "markdown",
      "source": [
        "### **1. ResNet18:**"
      ],
      "metadata": {
        "id": "HPVFLFFbsidW"
      }
    },
    {
      "cell_type": "code",
      "execution_count": null,
      "metadata": {
        "id": "723f6ddd",
        "collapsed": true
      },
      "outputs": [],
      "source": [
        "# Load pre-trained ResNet18 model\n",
        "model_resnet18 = models.resnet18(pretrained=True)\n",
        "\n",
        "# Modify the final fully connected (fc) layer\n",
        "num_ftrs_resnet18 = model_resnet18.fc.in_features  # Input features to the fc layer\n",
        "model_resnet18.fc = nn.Linear(num_ftrs_resnet18, 10)  # 10 classes for FashionMNIST\n",
        "\n",
        "# Move model to GPU if available\n",
        "device = torch.device(\"cuda\" if torch.cuda.is_available() else \"cpu\")\n",
        "model_resnet18 = model_resnet18.to(device)"
      ]
    },
    {
      "cell_type": "markdown",
      "source": [
        "### **2. VGG16:**\n"
      ],
      "metadata": {
        "id": "1-y73G2UtLHD"
      }
    },
    {
      "cell_type": "code",
      "source": [
        "import torchvision.models as models\n",
        "import torch.nn as nn\n",
        "\n",
        "# Load pre-trained VGG16 model\n",
        "model_vgg16 = models.vgg16(pretrained=True)\n",
        "\n",
        "# Modify the final fully connected (fc) layer\n",
        "num_ftrs_vgg16 = model_vgg16.classifier[6].in_features  # Input features to the fc layer\n",
        "model_vgg16.classifier[6] = nn.Linear(num_ftrs_vgg16, 10)  # 10 classes for FashionMNIST\n",
        "\n",
        "# Move model to GPU if available\n",
        "device = torch.device(\"cuda\" if torch.cuda.is_available() else \"cpu\")\n",
        "model_vgg16 = model_vgg16.to(device)"
      ],
      "metadata": {
        "collapsed": true,
        "id": "Arz38UsCtLhS"
      },
      "execution_count": null,
      "outputs": []
    },
    {
      "cell_type": "markdown",
      "source": [
        "### **3. MobileNetV2:**\n"
      ],
      "metadata": {
        "id": "HZLRZblzsoxn"
      }
    },
    {
      "cell_type": "code",
      "source": [
        "# Load pre-trained MobileNetV2 model\n",
        "model_mobilenet_v2 = models.mobilenet_v2(pretrained=True)\n",
        "\n",
        "# Modify the final fully connected (fc) layer\n",
        "num_ftrs_mobilenet_v2 = model_mobilenet_v2.classifier[1].in_features  # Input features to the fc layer\n",
        "model_mobilenet_v2.classifier[1] = nn.Linear(num_ftrs_mobilenet_v2, 10)  # 10 classes for FashionMNIST\n",
        "\n",
        "# Move model to GPU if available\n",
        "device = torch.device(\"cuda\" if torch.cuda.is_available() else \"cpu\")\n",
        "model_mobilenet_v2 = model_mobilenet_v2.to(device)"
      ],
      "metadata": {
        "collapsed": true,
        "id": "Fq_4Y7_isykG"
      },
      "execution_count": null,
      "outputs": []
    },
    {
      "cell_type": "markdown",
      "metadata": {
        "id": "646e0f52"
      },
      "source": [
        "## **Step 4: Defining the Loss Function and Optimizer**"
      ]
    },
    {
      "cell_type": "code",
      "source": [
        "import torch.optim as optim\n",
        "\n",
        "# Loss function\n",
        "criterion = nn.CrossEntropyLoss()"
      ],
      "metadata": {
        "id": "CmxZiy6psSGL"
      },
      "execution_count": null,
      "outputs": []
    },
    {
      "cell_type": "code",
      "execution_count": null,
      "metadata": {
        "id": "7a35c519"
      },
      "outputs": [],
      "source": [
        "# Optimizer: ResNet18\n",
        "optimizer_resnet18 = optim.Adam(model_resnet18.parameters(), lr=0.001)"
      ]
    },
    {
      "cell_type": "code",
      "source": [
        "# Optimizer: VGG16\n",
        "optimizer_vgg16 = optim.Adam(model_vgg16.parameters(), lr=0.001)"
      ],
      "metadata": {
        "id": "qxuuI_dPt6A5"
      },
      "execution_count": null,
      "outputs": []
    },
    {
      "cell_type": "code",
      "source": [
        "# Optimizer: MobileNetV2\n",
        "optimizer_mobilenet_v2 = optim.Adam(model_mobilenet_v2.parameters(), lr=0.001)"
      ],
      "metadata": {
        "id": "FaOX-zemt5u_"
      },
      "execution_count": null,
      "outputs": []
    },
    {
      "cell_type": "markdown",
      "metadata": {
        "id": "21d7e287"
      },
      "source": [
        "## **Step 5: Training the Models**"
      ]
    },
    {
      "cell_type": "code",
      "execution_count": null,
      "metadata": {
        "id": "b7791a1f"
      },
      "outputs": [],
      "source": [
        "from tqdm import tqdm\n",
        "\n",
        "# Training loop\n",
        "def train_model(model, train_loader, criterion, optimizer, device, epochs=5):\n",
        "    model.train()\n",
        "    for epoch in range(epochs):\n",
        "        running_loss = 0.0\n",
        "        for images, labels in tqdm(train_loader, desc=f\"Epoch {epoch+1}/{epochs}\"):\n",
        "            images, labels = images.to(device), labels.to(device)\n",
        "\n",
        "            # Forward pass\n",
        "            outputs = model(images)\n",
        "            loss = criterion(outputs, labels)\n",
        "\n",
        "            # Backward pass\n",
        "            optimizer.zero_grad()\n",
        "            loss.backward()\n",
        "            optimizer.step()\n",
        "\n",
        "            running_loss += loss.item()\n",
        "        print(f\"Epoch {epoch+1}, Loss: {running_loss/len(train_loader):.4f}\")"
      ]
    },
    {
      "cell_type": "code",
      "source": [
        "# Run training on ResNet18\n",
        "train_model(model_resnet18, train_loader, criterion, optimizer_resnet18, device, epochs=5)"
      ],
      "metadata": {
        "colab": {
          "base_uri": "https://localhost:8080/"
        },
        "id": "uEA64CS_uKvb",
        "outputId": "53a5f594-fca2-4a1d-c370-87440ae00bf2"
      },
      "execution_count": null,
      "outputs": [
        {
          "output_type": "stream",
          "name": "stderr",
          "text": [
            "Epoch 1/5: 100%|██████████| 1875/1875 [04:00<00:00,  7.78it/s]\n"
          ]
        },
        {
          "output_type": "stream",
          "name": "stdout",
          "text": [
            "Epoch 1, Loss: 0.7488\n"
          ]
        },
        {
          "output_type": "stream",
          "name": "stderr",
          "text": [
            "Epoch 2/5: 100%|██████████| 1875/1875 [03:53<00:00,  8.02it/s]\n"
          ]
        },
        {
          "output_type": "stream",
          "name": "stdout",
          "text": [
            "Epoch 2, Loss: 0.3928\n"
          ]
        },
        {
          "output_type": "stream",
          "name": "stderr",
          "text": [
            "Epoch 3/5: 100%|██████████| 1875/1875 [03:53<00:00,  8.03it/s]\n"
          ]
        },
        {
          "output_type": "stream",
          "name": "stdout",
          "text": [
            "Epoch 3, Loss: 0.3417\n"
          ]
        },
        {
          "output_type": "stream",
          "name": "stderr",
          "text": [
            "Epoch 4/5: 100%|██████████| 1875/1875 [03:53<00:00,  8.03it/s]\n"
          ]
        },
        {
          "output_type": "stream",
          "name": "stdout",
          "text": [
            "Epoch 4, Loss: 0.3029\n"
          ]
        },
        {
          "output_type": "stream",
          "name": "stderr",
          "text": [
            "Epoch 5/5: 100%|██████████| 1875/1875 [03:54<00:00,  8.00it/s]"
          ]
        },
        {
          "output_type": "stream",
          "name": "stdout",
          "text": [
            "Epoch 5, Loss: 0.2745\n"
          ]
        },
        {
          "output_type": "stream",
          "name": "stderr",
          "text": [
            "\n"
          ]
        }
      ]
    },
    {
      "cell_type": "code",
      "source": [
        "# Run training on VGG16\n",
        "train_model(model_vgg16, train_loader, criterion, optimizer_vgg16, device, epochs=5)"
      ],
      "metadata": {
        "id": "12mD6SMUsPjp"
      },
      "execution_count": null,
      "outputs": []
    },
    {
      "cell_type": "code",
      "source": [
        "# Run training on MobileNetV2\n",
        "train_model(model_mobilenet_v2, train_loader, criterion, optimizer_mobilenet_v2, device, epochs=5)"
      ],
      "metadata": {
        "id": "U2WPgeSFuK_i",
        "colab": {
          "base_uri": "https://localhost:8080/"
        },
        "outputId": "0a26abde-5a93-46ad-f45f-24584f88dc7b"
      },
      "execution_count": null,
      "outputs": [
        {
          "output_type": "stream",
          "name": "stderr",
          "text": [
            "Epoch 1/5: 100%|██████████| 1875/1875 [04:37<00:00,  6.77it/s]\n"
          ]
        },
        {
          "output_type": "stream",
          "name": "stdout",
          "text": [
            "Epoch 1, Loss: 0.6928\n"
          ]
        },
        {
          "output_type": "stream",
          "name": "stderr",
          "text": [
            "Epoch 2/5: 100%|██████████| 1875/1875 [04:35<00:00,  6.82it/s]\n"
          ]
        },
        {
          "output_type": "stream",
          "name": "stdout",
          "text": [
            "Epoch 2, Loss: 0.4812\n"
          ]
        },
        {
          "output_type": "stream",
          "name": "stderr",
          "text": [
            "Epoch 3/5: 100%|██████████| 1875/1875 [04:34<00:00,  6.83it/s]\n"
          ]
        },
        {
          "output_type": "stream",
          "name": "stdout",
          "text": [
            "Epoch 3, Loss: 0.4343\n"
          ]
        },
        {
          "output_type": "stream",
          "name": "stderr",
          "text": [
            "Epoch 4/5: 100%|██████████| 1875/1875 [04:33<00:00,  6.85it/s]\n"
          ]
        },
        {
          "output_type": "stream",
          "name": "stdout",
          "text": [
            "Epoch 4, Loss: 0.4123\n"
          ]
        },
        {
          "output_type": "stream",
          "name": "stderr",
          "text": [
            "Epoch 5/5: 100%|██████████| 1875/1875 [04:34<00:00,  6.84it/s]"
          ]
        },
        {
          "output_type": "stream",
          "name": "stdout",
          "text": [
            "Epoch 5, Loss: 0.4134\n"
          ]
        },
        {
          "output_type": "stream",
          "name": "stderr",
          "text": [
            "\n"
          ]
        }
      ]
    },
    {
      "cell_type": "markdown",
      "metadata": {
        "id": "0dde2604"
      },
      "source": [
        "## **Step 6: Evaluating the Model**\n",
        "\n",
        "Now, let’s evaluate the model’s accuracy on the test dataset:"
      ]
    },
    {
      "cell_type": "code",
      "source": [
        "def evaluate_model(model, test_loader, device):\n",
        "    model.eval()\n",
        "    correct = 0\n",
        "    total = 0\n",
        "    with torch.no_grad():\n",
        "        for images, labels in test_loader:\n",
        "            images, labels = images.to(device), labels.to(device)\n",
        "            outputs = model(images)\n",
        "            _, predicted = torch.max(outputs, 1)\n",
        "            total += labels.size(0)\n",
        "            correct += (predicted == labels).sum().item()\n",
        "    accuracy = 100 * correct / total\n",
        "    print(f\"Test Accuracy: {accuracy:.2f}%\")\n",
        "    return accuracy"
      ],
      "metadata": {
        "id": "qG8TgrmTsdHC"
      },
      "execution_count": null,
      "outputs": []
    },
    {
      "cell_type": "code",
      "execution_count": null,
      "metadata": {
        "id": "a84da429"
      },
      "outputs": [],
      "source": [
        "# Evaluate ResNet18\n",
        "test_accuracy = evaluate_model(model_resnet18, test_loader, device)"
      ]
    },
    {
      "cell_type": "code",
      "source": [
        "# Evaluate VGG16\n",
        "test_accuracy = evaluate_model(model_vgg16, test_loader, device)"
      ],
      "metadata": {
        "id": "T160IyACvIxS"
      },
      "execution_count": null,
      "outputs": []
    },
    {
      "cell_type": "code",
      "source": [
        "# Evaluate MobileNetV2\n",
        "test_accuracy = evaluate_model(model_mobilenet_v2, test_loader, device)"
      ],
      "metadata": {
        "id": "DVhs4pT1vIWq"
      },
      "execution_count": null,
      "outputs": []
    },
    {
      "cell_type": "markdown",
      "source": [
        "## **Step 8: Report Accuracy**\n",
        "- Learning Rate: 0.001\n",
        "- Batch Size: 32\n",
        "\n",
        "| **Model**           | **Test Accuracy (%)** |\n",
        "|----------------------|-----------------------|\n",
        "| ResNet18            | 93.24%                  |\n",
        "| VGG16               | 89.85%                  |\n",
        "| MobileNetV2         | 89.62%                  |"
      ],
      "metadata": {
        "id": "QJf_qwbtWbs0"
      }
    },
    {
      "cell_type": "markdown",
      "metadata": {
        "id": "a7862546"
      },
      "source": [
        "\n",
        "- Learning Rate: 0.05\n",
        "- Batch Size: 32\n",
        "\n",
        "\n",
        "| **Model**           | **Test Accuracy (%)** |\n",
        "|----------------------|-----------------------|\n",
        "| ResNet18            | 90.80%                  |\n",
        "| VGG16               | 10.00%                 |\n",
        "| MobileNetV2         | 84.92%                |"
      ]
    },
    {
      "cell_type": "markdown",
      "source": [
        "- Learning Rate: 0.05\n",
        "- Batch Size: 64\n",
        "\n",
        "| **Model**           | **Test Accuracy (%)** |\n",
        "|----------------------|-----------------------|\n",
        "| ResNet18            | 89.51%                 |\n",
        "| VGG16               | 90.80%                  |\n",
        "| MobileNetV2         | 83.24%                  |"
      ],
      "metadata": {
        "id": "0ueW-dyeMKbp"
      }
    },
    {
      "cell_type": "markdown",
      "source": [
        "- Learning Rate: 0.05\n",
        "- Batch Size: 128\n",
        "\n",
        "| **Model**           | **Test Accuracy (%)** |\n",
        "|----------------------|-----------------------|\n",
        "| ResNet18            | 86.05%                |\n",
        "| VGG16               | 10.00%                  |\n",
        "| MobileNetV2         | 77.10%                  |"
      ],
      "metadata": {
        "id": "rqUh9-VZaeE_"
      }
    }
  ]
}
